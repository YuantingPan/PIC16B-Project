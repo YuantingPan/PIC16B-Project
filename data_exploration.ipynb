{
 "cells": [
  {
   "cell_type": "code",
   "execution_count": 1,
   "metadata": {},
   "outputs": [],
   "source": [
    "import numpy as np\n",
    "import matplotlib.pyplot as plt\n",
    "from glob import glob\n",
    "import os\n",
    "from PIL import Image"
   ]
  },
  {
   "cell_type": "markdown",
   "metadata": {},
   "source": [
    "### Get all images and their labels, save to .npz file, and load from it."
   ]
  },
  {
   "cell_type": "code",
   "execution_count": 2,
   "metadata": {},
   "outputs": [],
   "source": [
    "def get_all_image(path, saveto):\n",
    "    \"\"\"\n",
    "        Glob all image data, combine and save to np.npz file.\n",
    "    Args:\n",
    "        path = \"LFW/lfw-deepfunneled/lfw-deepfunneled/\"\n",
    "        saveto = filename (eg. \"data\")\n",
    "    Return:\n",
    "        Filename. eg. \"data.npz\"\n",
    "    \"\"\"\n",
    "    if os.path.isfile(saveto + \".npz\"):     # If npz file already exists\n",
    "        return saveto + \".npz\" \n",
    "    img_chunk = []      # All image arrays\n",
    "    label_chunk = []    # All image labels\n",
    "    dir_list = glob(path+\"/*/\", recursive = True)\n",
    "    for dir in dir_list:\n",
    "        label = dir.split(\"/\")[-2]      # directory name = label   eg.angry\n",
    "        image_path_list = glob(dir+\"/*\", recursive=True)\n",
    "        for image_path in image_path_list:\n",
    "            image = Image.open(image_path)\n",
    "            img_chunk.append(np.array(image))\n",
    "            label_chunk.append(label)\n",
    "\n",
    "    img_chunk = np.array(img_chunk)\n",
    "    label_chunk = np.array(label_chunk)\n",
    "    np.savez(saveto, image = img_chunk, label = label_chunk)\n",
    "    return saveto + \".npz\""
   ]
  },
  {
   "cell_type": "code",
   "execution_count": 3,
   "metadata": {},
   "outputs": [],
   "source": [
    "def load_all_image(npz_path):\n",
    "    \"\"\"\n",
    "        Load data from npz file\n",
    "    \"\"\"\n",
    "    data = np.load(npz_path)\n",
    "    return data[\"image\"], data[\"label\"]"
   ]
  },
  {
   "cell_type": "code",
   "execution_count": 4,
   "metadata": {},
   "outputs": [],
   "source": [
    "train_dir = \"images/train\"\n",
    "data_loc = get_all_image(train_dir, \"train\")\n",
    "images, labels = load_all_image(data_loc)"
   ]
  },
  {
   "cell_type": "code",
   "execution_count": 5,
   "metadata": {},
   "outputs": [
    {
     "name": "stdout",
     "output_type": "stream",
     "text": [
      "(28821, 48, 48)\n",
      "(28821,)\n"
     ]
    }
   ],
   "source": [
    "print(images.shape)\n",
    "print(labels.shape)"
   ]
  },
  {
   "cell_type": "markdown",
   "metadata": {},
   "source": [
    "### Encode the labels\n",
    "label_dict: dictionary of labels and their corresponding number\n",
    "\n",
    "labels_encoded: encoded labels (numbers)"
   ]
  },
  {
   "cell_type": "code",
   "execution_count": 6,
   "metadata": {},
   "outputs": [
    {
     "name": "stdout",
     "output_type": "stream",
     "text": [
      "{'angry': 0, 'disgust': 1, 'fear': 2, 'happy': 3, 'neutral': 4, 'sad': 5, 'surprise': 6}\n",
      "[3. 3. 3. 3. 3. 3. 3. 3. 3. 3.]\n"
     ]
    }
   ],
   "source": [
    "label_dict = {}\n",
    "i = 0\n",
    "for label in np.unique(labels):\n",
    "    label_dict[label] = i\n",
    "    i += 1\n",
    "\n",
    "labels_encoded = np.zeros(labels.shape)\n",
    "for i in range(labels_encoded.shape[0]):\n",
    "    labels_encoded[i] = label_dict[labels[i]]\n",
    "\n",
    "print(label_dict)\n",
    "print(labels_encoded[:10])"
   ]
  },
  {
   "cell_type": "markdown",
   "metadata": {},
   "source": [
    "Show the distribution of labels"
   ]
  },
  {
   "cell_type": "code",
   "execution_count": 7,
   "metadata": {},
   "outputs": [
    {
     "data": {
      "image/png": "[encoded data removed]",
      "text/plain": [
       "<Figure size 640x480 with 1 Axes>"
      ]
     },
     "metadata": {},
     "output_type": "display_data"
    }
   ],
   "source": [
    "plt.hist(labels, bins=len(label_dict), rwidth=0.5)\n",
    "plt.show()"
   ]
  },
  {
   "cell_type": "markdown",
   "metadata": {},
   "source": [
    "Show some random image, converted reversely from the np.array we saved"
   ]
  },
  {
   "cell_type": "code",
   "execution_count": 8,
   "metadata": {},
   "outputs": [],
   "source": [
    "random_img = images[np.random.choice(images.shape[0])]\n",
    "img = Image.fromarray(random_img)\n",
    "img.show()\n"
   ]
  }
 ],
 "metadata": {
  "kernelspec": {
   "display_name": "Python 3 (ipykernel)",
   "language": "python",
   "name": "python3"
  },
  "language_info": {
   "codemirror_mode": {
    "name": "ipython",
    "version": 3
   },
   "file_extension": ".py",
   "mimetype": "text/x-python",
   "name": "python",
   "nbconvert_exporter": "python",
   "pygments_lexer": "ipython3",
   "version": "3.9.13"
  },
  "vscode": {
   "interpreter": {
    "hash": "cf6b7427fdf21666dc9d9a785b3447f140b392c6f235b11e5a8f8cfcaee1f910"
   }
  }
 },
 "nbformat": 4,
 "nbformat_minor": 2
}
