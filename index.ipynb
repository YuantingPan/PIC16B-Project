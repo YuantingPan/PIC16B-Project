{
 "cells": [
  {
   "cell_type": "raw",
   "metadata": {},
   "source": [
    "---\n",
    "title: \"Final Project - Facial Expression Classification with PyTorch'\n",
    "author: \"Euibin Kim, Yuanting Pan, Lei Xu\"\n",
    "date: \"2023-03-24\"\n",
    "categories: [week 10, Project, Python]\n",
    "format:\n",
    "    html:\n",
    "        code-fold: false\n",
    "jupyter: python3\n",
    "---"
   ]
  },
  {
   "cell_type": "markdown",
   "metadata": {
    "id": "JjepFMdPZM8N"
   },
   "source": [
    "We developed a model that finds facial expressions (happy, sad, surprise, disgust, neutral, fear, and angry) from image input using a PyTorch package.\n",
    "In this blog post, we will focus on important technical details of our project."
   ]
  },
  {
   "cell_type": "markdown",
   "metadata": {
    "id": "U690tOxXS4C2"
   },
   "source": [
    "## 1. Finetuning ResNet, Image Augmentation\n",
    "\n",
    "Instead of implementing everything from scratch, we decided to finetune ResNet50.<br>\n",
    "First, we began by writing a class `Resnet`."
   ]
  },
  {
   "attachments": {
    "resnet.png": {
     "image/png": "[encoded data removed]"
    }
   },
   "cell_type": "markdown",
   "metadata": {},
   "source": [
    "![resnet.png](attachment:resnet.png)"
   ]
  },
  {
   "cell_type": "code",
   "execution_count": null,
   "metadata": {},
   "outputs": [],
   "source": [
    "class Resnet(nn.Module):\n",
    "    def __init__(self, mode='finetune', pretrained=True):\n",
    "        \"\"\"\n",
    "        use the ResNet50 model from torchvision models.\n",
    "        \n",
    "        mode has two options:\n",
    "        1) linear: For this mode, we want to freeze ResNet50 features, then train a linear\n",
    "            classifier which takes the features before FC (fully connected layer).\n",
    "            Replace FC with the one takes in the features and output scores of size 7. (7 expressions)\n",
    "        2) finetune: Same as 1) linear, except that we do not need to freeze the featues and\n",
    "            can finetune on the pretrained resnet model.\n",
    "        \"\"\"\n",
    "        self.resnet = models.resnet50(pretrained=Treu)\n",
    "        \n",
    "        if mode == 'linear':\n",
    "            for name, param in self.resnet.named_parameters():\n",
    "                if param.requires_grad and 'fc' not in name:\n",
    "                    param.requires_grad = False\n",
    "            \n",
    "            num_features = self.resnet.fc.in_features\n",
    "            self.resnet.fc = nn.Linear(num_features, 7)\n",
    "            \n",
    "        elif mode == 'finetune':\n",
    "            num_features = self.resnet.fc.in_features\n",
    "            self.resnet.fc = nn.Linear(num_features, 7)\n",
    "            \n",
    "    def forward(self, x):\n",
    "        x = self.resnet(x)\n",
    "        return x\n",
    "    \n",
    "    def to(self, device):\n",
    "        return self.resnet.to(device=device)"
   ]
  },
  {
   "cell_type": "markdown",
   "metadata": {},
   "source": [
    "### 1-1. Linear Classifier\n",
    "First, we started with a linear classifier"
   ]
  },
  {
   "cell_type": "code",
   "execution_count": null,
   "metadata": {},
   "outputs": [],
   "source": [
    "# Define a model, optimizer, and criterion\n",
    "model = Resnet(mode='linear', pretrained=True)\n",
    "\n",
    "optimizer = torch.optim.SGD(\n",
    "    model.parameters()\n",
    "    lr = 0.005,\n",
    "    momentum = 0.9\n",
    ")\n",
    "\n",
    "criterion = nn.CrossEntropyLoss()\n",
    "\n",
    "# Define the batch size and number of workers\n",
    "batch_size = 64\n",
    "num_workers = 2\n",
    "\n",
    "train_loader = DataLoader(train_dataset, batch_size, num_workers=num_workers, shuffle=True)\n",
    "val_loader = DataLoader(val_dataset, batch_size, num_workers=num_workers, shuffle=False)\n",
    "\n",
    "\n",
    "model_name = \"linear1.pt\"\n",
    "try:\n",
    "    model.load_state_dict(torch.load(PATH + model_name))\n",
    "    # continue training for more epochs:\n",
    "    # train(model, train_loader, val_loader, optimizer, criterion, device, num_epochs=5)\n",
    "except:\n",
    "    train(model, train_loader, val_loader, optimizer, criterion, device, num_epochs=10)\n",
    "torch.save(model.state_dict(), PATH + model_name)"
   ]
  },
  {
   "cell_type": "markdown",
   "metadata": {},
   "source": [
    "After 10 epochs, we were able to get 40.39% validation accuracy."
   ]
  },
  {
   "cell_type": "markdown",
   "metadata": {},
   "source": [
    "### 1-2. Fully finetune with same learning rate\n",
    "Then, we moved to finetuned models. <br>\n",
    "We began with the learning rate of 0.01"
   ]
  },
  {
   "cell_type": "code",
   "execution_count": null,
   "metadata": {},
   "outputs": [],
   "source": [
    "resnet_finetune1 = Resnet(mode='finetune', pretrained=True)\n",
    "\n",
    "optimizer = torch.optim.SGD(\n",
    "    resnet_finetune1.parameters(),\n",
    "    lr = 0.01,\n",
    "    momentum = 0.9\n",
    ")\n",
    "\n",
    "criterion = nn.CrossEntropyLoss()\n",
    "\n",
    "### Rest are the same"
   ]
  },
  {
   "cell_type": "markdown",
   "metadata": {},
   "source": [
    "For the finetuned ResNet50, we got a 61.49% validation accuracy."
   ]
  },
  {
   "cell_type": "markdown",
   "metadata": {},
   "source": [
    "### 1-3. Fully finetune with different learning rates\n",
    "In ResNet50, lower layers typically learn low-level features such as edges and textures that are useful across a wide range of tasks, and therefore may require smaller updates to prevent overfitting. Meanwhile, higher layers may learn more task-specific features that require larger updates to improve performance. <br>\n",
    "\n",
    "Therefore, we set the learning rate 'fc' layer to 0.01, and 0.001 for the rest."
   ]
  },
  {
   "cell_type": "code",
   "execution_count": null,
   "metadata": {},
   "outputs": [],
   "source": [
    "resnet_finetune2 = Resnet(mode='finetune', pretrained=True)\n",
    "\n",
    "last_params, rest_params = [], []\n",
    "for name, param in resnet_finetune2.named_parameters():\n",
    "    if 'fc' i nname:\n",
    "        last_params.append(param)\n",
    "    else:\n",
    "        rest_params.append(param)\n",
    "        \n",
    "optimizer = torch.optim.SGD(\n",
    "    [\n",
    "        {\"params\": last_params, \"lr\": 0.01, \"momentum\": 0.9},\n",
    "        {\"params\": rest_params, \"lr\": 0.001, \"momentum\": 0.9}\n",
    "    ]\n",
    ")"
   ]
  },
  {
   "cell_type": "markdown",
   "metadata": {},
   "source": [
    "Here, we got a 64.30% validation accuracy."
   ]
  },
  {
   "cell_type": "markdown",
   "metadata": {},
   "source": [
    "### 1-4. Finetune with frozen layers\n",
    "Freezing some layers during fine-tuning can help to prevent overfitting and speed up the training process. When we finetune a pre-trained neural network, we typically want to retain the learned feature representations in the lower layers of the network, which are often more general and transferable across different tasks. By freezing these lower layers, we prevent their weights from being updated during finetuning, which helps to ensure that the model retains its learned feature represenations. This can be particularly important if we have a small amount of data available for the specific task we are finetuning for. <br>\n",
    "\n",
    "In particular, we set the last fc layer's lr to be 0.01, the first two layers's lrs to be 0, and the rest for 0.001"
   ]
  },
  {
   "cell_type": "code",
   "execution_count": null,
   "metadata": {},
   "outputs": [],
   "source": [
    "last_params, lower_params, rest_params = [], [], []\n",
    "\n",
    "for name, param in resnet_finetune3.named_parameters():\n",
    "    if 'fc' in name:\n",
    "        last_params.append(param)\n",
    "    elif 'layer1' in name or 'layer2' in name:\n",
    "        lower_params.append(param)\n",
    "    else:\n",
    "        rest_params.append(param)\n",
    "\n",
    "optimizer = torch.optim.SGD(\n",
    "    [\n",
    "        {\"params\": last_params, \"lr\": 0.01, \"momentum\": 0.9},\n",
    "        {\"params\": lower_params, \"lr\": 0, \"momentum\": 0.9},\n",
    "        {\"params\": rest_params, \"lr\": 0.001, \"momentum\": 0.9}\n",
    "    ]\n",
    ")"
   ]
  },
  {
   "cell_type": "markdown",
   "metadata": {},
   "source": [
    "Here, we got a 61.66% validation accuracy after 10 epochs."
   ]
  },
  {
   "cell_type": "markdown",
   "metadata": {},
   "source": [
    "### 1-5. Image Augmentation\n",
    "While testing our finetuned models with different learning rates, we observed severe overfittings. To prevent the model learning from the same training data over and over, we used image transformations to 'virtually augment' the dataset. (Instead of adding more images to our dataset, we added the first layer that transforms our images). <br>\n",
    "\n",
    "We tried different combinations of image transfomations, and we \n",
    "decided to use 'horizontal flip', 'random rotation' and 'random perspective' from torchvision.transforms package."
   ]
  },
  {
   "cell_type": "code",
   "execution_count": 1,
   "metadata": {},
   "outputs": [],
   "source": [
    "# image transformations\n",
    "image_hflip = transforms.RandomHorizontalFlip(p=0.2) # p = probability\n",
    "image_rotate = transforms.RandomRotation((-5, 5)) # degree limits\n",
    "image_randomP = transforms.RandomPerspective(distortion_scale=0.1, p=0.25)\n",
    "\n",
    "class Resnet(nn.Module):\n",
    "    def __init__(self, mode='finetune', augmented=False, pretrained=True):\n",
    "        super().__init__()\n",
    "        \"\"\"\n",
    "        use the resnet18 model from torchvision models. Remember to set pretrained as true\n",
    "        \n",
    "        mode has two options:\n",
    "        1) linear: For this mode, we want to freeze resnet18 feautres, then train a linear\n",
    "                    classifier which takes the features before FC (again we do not want the resnet18 FC).\n",
    "                    And then write our own FC layer: which takes in the features and \n",
    "                    output scores of size 7 (since we have 7 categories)\n",
    "        2) finetune: Same as 1) linear, except that we do not need to freeze the features and\n",
    "                    can finetune on the pretrained resnet model.\n",
    "        \"\"\"\n",
    "    \n",
    "            \n",
    "        self.augmented = augmented\n",
    "        self.resnet = models.resnet50(pretrained=True)\n",
    "\n",
    "        if mode == 'linear':\n",
    "            for name, param in self.resnet.named_parameters():\n",
    "                if param.requires_grad and 'fc' not in name:\n",
    "                    param.requires_grad = False\n",
    "            \n",
    "            num_features = self.resnet.fc.in_features\n",
    "            self.resnet.fc = nn.Linear(num_features, 7)\n",
    "\n",
    "        elif mode == 'finetune':\n",
    "            num_features = self.resnet.fc.in_features\n",
    "            self.resnet.fc = nn.Linear(num_features, 7)\n",
    "\n",
    "    # Here, we added a layer that transforms our images\n",
    "    def forward(self, x):\n",
    "        if self.augmented:\n",
    "            x = image_hflip(x)\n",
    "            x = image_rotate(x)\n",
    "            x = image_randomP(x)\n",
    "        \n",
    "        x = self.resnet(x)\n",
    "        return x\n",
    "\n",
    "    def to(self, device):\n",
    "        return self.resnet.to(device=device)"
   ]
  },
  {
   "cell_type": "markdown",
   "metadata": {},
   "source": [
    "We tried this image augmentation with the last two models (different learning rates and the one with frozen layers), and were able to achieve a 65.51% validation accuracy after 20 epochs with the model with different learning rates."
   ]
  },
  {
   "cell_type": "code",
   "execution_count": null,
   "metadata": {},
   "outputs": [],
   "source": []
  }
 ],
 "metadata": {
  "accelerator": "GPU",
  "colab": {
   "provenance": []
  },
  "gpuClass": "standard",
  "kernelspec": {
   "display_name": "Python 3 (ipykernel)",
   "language": "python",
   "name": "python3"
  },
  "language_info": {
   "codemirror_mode": {
    "name": "ipython",
    "version": 3
   },
   "file_extension": ".py",
   "mimetype": "text/x-python",
   "name": "python",
   "nbconvert_exporter": "python",
   "pygments_lexer": "ipython3",
   "version": "3.9.13"
  }
 },
 "nbformat": 4,
 "nbformat_minor": 1
}
